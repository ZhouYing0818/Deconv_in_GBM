{
 "cells": [
  {
   "cell_type": "code",
   "execution_count": 1,
   "id": "3d7d7c0c-c526-4f53-bc37-2630690acb56",
   "metadata": {},
   "outputs": [],
   "source": [
    "import numpy as np\n",
    "import scanpy as sc\n",
    "import seaborn as sns\n",
    "from scipy.stats import median_abs_deviation\n",
    "import anndata as ad\n",
    "import pandas as pd\n",
    "import os\n",
    "from scipy.sparse import csr_matrix\n",
    "\n",
    "sc.settings.verbosity = 0\n",
    "sc.settings.set_figure_params(\n",
    "    dpi=80,\n",
    "    facecolor=\"white\",\n",
    "    frameon=False,\n",
    ")"
   ]
  },
  {
   "cell_type": "code",
   "execution_count": 2,
   "id": "6264e1df-59ff-4977-83cb-3318116031bb",
   "metadata": {},
   "outputs": [],
   "source": [
    "YU_adata=ad.read(\"/data/newdata/deconv/anno_test/GSE117891_Yu_2020/GSE117891_all_6148_fs.h5ad\")\n",
    "YU_delet_samples=[\"S15\",\"S14\",\"S9\",\"S8\",\"S7\",\"S4\"]\n",
    "YU_adata=YU_adata[~(YU_adata.obs.Patients.isin(YU_delet_samples))].copy()\n",
    "infercnv_kmeans_types=pd.read_csv(\"/data/newdata/deconv/anno_test/GSE117891_Yu_2020/kmeans_df_s_k7.txt\",sep='\\t',index_col=0)\n",
    "tmp=pd.merge(YU_adata.obs,infercnv_kmeans_types,how='left',left_index=True,right_index=True)\n",
    "YU_adata.obs[\"mag_nonmag\"]=tmp[\"mag_nonmag\"]\n",
    "YU_adata.obs['batch']='YU'\n",
    "YU_adata.obs['TumorID']=\"YU\"+YU_adata.obs['Patients'].astype(\"str\")\n",
    "YU_adata.obs['orin_index']=YU_adata.obs.index\n",
    "YU_adata.obs.index=YU_adata.obs[\"batch\"].astype(\"str\")+'_'+YU_adata.obs[\"Patients\"].astype(\"str\")+'_'+pd.Series(range(1,len(YU_adata.obs.index)+1),index=YU_adata.obs.index).astype('str')"
   ]
  },
  {
   "cell_type": "code",
   "execution_count": 3,
   "id": "b63569fa-ca0b-4250-8e22-ab8313147ec6",
   "metadata": {},
   "outputs": [
    {
     "data": {
      "text/plain": [
       "Tumoral        866\n",
       "Peritumoral    112\n",
       "Name: Types, dtype: int64"
      ]
     },
     "execution_count": 3,
     "metadata": {},
     "output_type": "execute_result"
    }
   ],
   "source": [
    "YU_adata[YU_adata.obs[\"TumorID\"]==\"YUS13\"].obs[\"Types\"].value_counts()"
   ]
  },
  {
   "cell_type": "code",
   "execution_count": 4,
   "id": "ffff173d-e3e2-4437-855b-a2de2875e35e",
   "metadata": {},
   "outputs": [
    {
     "data": {
      "text/html": [
       "<div>\n",
       "<style scoped>\n",
       "    .dataframe tbody tr th:only-of-type {\n",
       "        vertical-align: middle;\n",
       "    }\n",
       "\n",
       "    .dataframe tbody tr th {\n",
       "        vertical-align: top;\n",
       "    }\n",
       "\n",
       "    .dataframe thead th {\n",
       "        text-align: right;\n",
       "    }\n",
       "</style>\n",
       "<table border=\"1\" class=\"dataframe\">\n",
       "  <thead>\n",
       "    <tr style=\"text-align: right;\">\n",
       "      <th></th>\n",
       "      <th>Samples</th>\n",
       "      <th>Types</th>\n",
       "      <th>Points</th>\n",
       "      <th>Patients</th>\n",
       "      <th>n_genes</th>\n",
       "      <th>n_genes_by_counts</th>\n",
       "      <th>log1p_n_genes_by_counts</th>\n",
       "      <th>total_counts</th>\n",
       "      <th>log1p_total_counts</th>\n",
       "      <th>pct_counts_in_top_20_genes</th>\n",
       "      <th>...</th>\n",
       "      <th>total_counts_hb</th>\n",
       "      <th>log1p_total_counts_hb</th>\n",
       "      <th>pct_counts_hb</th>\n",
       "      <th>scDblFinder_score</th>\n",
       "      <th>scDblFinder_class</th>\n",
       "      <th>size_factors</th>\n",
       "      <th>mag_nonmag</th>\n",
       "      <th>batch</th>\n",
       "      <th>TumorID</th>\n",
       "      <th>orin_index</th>\n",
       "    </tr>\n",
       "  </thead>\n",
       "  <tbody>\n",
       "    <tr>\n",
       "      <th>0</th>\n",
       "      <td>S13P1</td>\n",
       "      <td>Peritumoral</td>\n",
       "      <td>23</td>\n",
       "      <td>23</td>\n",
       "      <td>23</td>\n",
       "      <td>23</td>\n",
       "      <td>23</td>\n",
       "      <td>23</td>\n",
       "      <td>23</td>\n",
       "      <td>23</td>\n",
       "      <td>...</td>\n",
       "      <td>23</td>\n",
       "      <td>23</td>\n",
       "      <td>23</td>\n",
       "      <td>23</td>\n",
       "      <td>23</td>\n",
       "      <td>23</td>\n",
       "      <td>23</td>\n",
       "      <td>23</td>\n",
       "      <td>23</td>\n",
       "      <td>23</td>\n",
       "    </tr>\n",
       "    <tr>\n",
       "      <th>1</th>\n",
       "      <td>S13P1</td>\n",
       "      <td>Tumoral</td>\n",
       "      <td>0</td>\n",
       "      <td>0</td>\n",
       "      <td>0</td>\n",
       "      <td>0</td>\n",
       "      <td>0</td>\n",
       "      <td>0</td>\n",
       "      <td>0</td>\n",
       "      <td>0</td>\n",
       "      <td>...</td>\n",
       "      <td>0</td>\n",
       "      <td>0</td>\n",
       "      <td>0</td>\n",
       "      <td>0</td>\n",
       "      <td>0</td>\n",
       "      <td>0</td>\n",
       "      <td>0</td>\n",
       "      <td>0</td>\n",
       "      <td>0</td>\n",
       "      <td>0</td>\n",
       "    </tr>\n",
       "    <tr>\n",
       "      <th>2</th>\n",
       "      <td>S13P2</td>\n",
       "      <td>Peritumoral</td>\n",
       "      <td>89</td>\n",
       "      <td>89</td>\n",
       "      <td>89</td>\n",
       "      <td>89</td>\n",
       "      <td>89</td>\n",
       "      <td>89</td>\n",
       "      <td>89</td>\n",
       "      <td>89</td>\n",
       "      <td>...</td>\n",
       "      <td>89</td>\n",
       "      <td>89</td>\n",
       "      <td>89</td>\n",
       "      <td>89</td>\n",
       "      <td>89</td>\n",
       "      <td>89</td>\n",
       "      <td>89</td>\n",
       "      <td>89</td>\n",
       "      <td>89</td>\n",
       "      <td>89</td>\n",
       "    </tr>\n",
       "    <tr>\n",
       "      <th>3</th>\n",
       "      <td>S13P2</td>\n",
       "      <td>Tumoral</td>\n",
       "      <td>0</td>\n",
       "      <td>0</td>\n",
       "      <td>0</td>\n",
       "      <td>0</td>\n",
       "      <td>0</td>\n",
       "      <td>0</td>\n",
       "      <td>0</td>\n",
       "      <td>0</td>\n",
       "      <td>...</td>\n",
       "      <td>0</td>\n",
       "      <td>0</td>\n",
       "      <td>0</td>\n",
       "      <td>0</td>\n",
       "      <td>0</td>\n",
       "      <td>0</td>\n",
       "      <td>0</td>\n",
       "      <td>0</td>\n",
       "      <td>0</td>\n",
       "      <td>0</td>\n",
       "    </tr>\n",
       "    <tr>\n",
       "      <th>4</th>\n",
       "      <td>S13P4</td>\n",
       "      <td>Peritumoral</td>\n",
       "      <td>0</td>\n",
       "      <td>0</td>\n",
       "      <td>0</td>\n",
       "      <td>0</td>\n",
       "      <td>0</td>\n",
       "      <td>0</td>\n",
       "      <td>0</td>\n",
       "      <td>0</td>\n",
       "      <td>...</td>\n",
       "      <td>0</td>\n",
       "      <td>0</td>\n",
       "      <td>0</td>\n",
       "      <td>0</td>\n",
       "      <td>0</td>\n",
       "      <td>0</td>\n",
       "      <td>0</td>\n",
       "      <td>0</td>\n",
       "      <td>0</td>\n",
       "      <td>0</td>\n",
       "    </tr>\n",
       "    <tr>\n",
       "      <th>5</th>\n",
       "      <td>S13P4</td>\n",
       "      <td>Tumoral</td>\n",
       "      <td>344</td>\n",
       "      <td>344</td>\n",
       "      <td>344</td>\n",
       "      <td>344</td>\n",
       "      <td>344</td>\n",
       "      <td>344</td>\n",
       "      <td>344</td>\n",
       "      <td>344</td>\n",
       "      <td>...</td>\n",
       "      <td>344</td>\n",
       "      <td>344</td>\n",
       "      <td>344</td>\n",
       "      <td>344</td>\n",
       "      <td>344</td>\n",
       "      <td>344</td>\n",
       "      <td>344</td>\n",
       "      <td>344</td>\n",
       "      <td>344</td>\n",
       "      <td>344</td>\n",
       "    </tr>\n",
       "    <tr>\n",
       "      <th>6</th>\n",
       "      <td>S13P5</td>\n",
       "      <td>Peritumoral</td>\n",
       "      <td>0</td>\n",
       "      <td>0</td>\n",
       "      <td>0</td>\n",
       "      <td>0</td>\n",
       "      <td>0</td>\n",
       "      <td>0</td>\n",
       "      <td>0</td>\n",
       "      <td>0</td>\n",
       "      <td>...</td>\n",
       "      <td>0</td>\n",
       "      <td>0</td>\n",
       "      <td>0</td>\n",
       "      <td>0</td>\n",
       "      <td>0</td>\n",
       "      <td>0</td>\n",
       "      <td>0</td>\n",
       "      <td>0</td>\n",
       "      <td>0</td>\n",
       "      <td>0</td>\n",
       "    </tr>\n",
       "    <tr>\n",
       "      <th>7</th>\n",
       "      <td>S13P5</td>\n",
       "      <td>Tumoral</td>\n",
       "      <td>341</td>\n",
       "      <td>341</td>\n",
       "      <td>341</td>\n",
       "      <td>341</td>\n",
       "      <td>341</td>\n",
       "      <td>341</td>\n",
       "      <td>341</td>\n",
       "      <td>341</td>\n",
       "      <td>...</td>\n",
       "      <td>341</td>\n",
       "      <td>341</td>\n",
       "      <td>341</td>\n",
       "      <td>341</td>\n",
       "      <td>341</td>\n",
       "      <td>341</td>\n",
       "      <td>341</td>\n",
       "      <td>341</td>\n",
       "      <td>341</td>\n",
       "      <td>341</td>\n",
       "    </tr>\n",
       "    <tr>\n",
       "      <th>8</th>\n",
       "      <td>S13P6</td>\n",
       "      <td>Peritumoral</td>\n",
       "      <td>0</td>\n",
       "      <td>0</td>\n",
       "      <td>0</td>\n",
       "      <td>0</td>\n",
       "      <td>0</td>\n",
       "      <td>0</td>\n",
       "      <td>0</td>\n",
       "      <td>0</td>\n",
       "      <td>...</td>\n",
       "      <td>0</td>\n",
       "      <td>0</td>\n",
       "      <td>0</td>\n",
       "      <td>0</td>\n",
       "      <td>0</td>\n",
       "      <td>0</td>\n",
       "      <td>0</td>\n",
       "      <td>0</td>\n",
       "      <td>0</td>\n",
       "      <td>0</td>\n",
       "    </tr>\n",
       "    <tr>\n",
       "      <th>9</th>\n",
       "      <td>S13P6</td>\n",
       "      <td>Tumoral</td>\n",
       "      <td>181</td>\n",
       "      <td>181</td>\n",
       "      <td>181</td>\n",
       "      <td>181</td>\n",
       "      <td>181</td>\n",
       "      <td>181</td>\n",
       "      <td>181</td>\n",
       "      <td>181</td>\n",
       "      <td>...</td>\n",
       "      <td>181</td>\n",
       "      <td>181</td>\n",
       "      <td>181</td>\n",
       "      <td>181</td>\n",
       "      <td>181</td>\n",
       "      <td>181</td>\n",
       "      <td>181</td>\n",
       "      <td>181</td>\n",
       "      <td>181</td>\n",
       "      <td>181</td>\n",
       "    </tr>\n",
       "  </tbody>\n",
       "</table>\n",
       "<p>10 rows × 26 columns</p>\n",
       "</div>"
      ],
      "text/plain": [
       "  Samples        Types  Points  Patients  n_genes  n_genes_by_counts  \\\n",
       "0   S13P1  Peritumoral      23        23       23                 23   \n",
       "1   S13P1      Tumoral       0         0        0                  0   \n",
       "2   S13P2  Peritumoral      89        89       89                 89   \n",
       "3   S13P2      Tumoral       0         0        0                  0   \n",
       "4   S13P4  Peritumoral       0         0        0                  0   \n",
       "5   S13P4      Tumoral     344       344      344                344   \n",
       "6   S13P5  Peritumoral       0         0        0                  0   \n",
       "7   S13P5      Tumoral     341       341      341                341   \n",
       "8   S13P6  Peritumoral       0         0        0                  0   \n",
       "9   S13P6      Tumoral     181       181      181                181   \n",
       "\n",
       "   log1p_n_genes_by_counts  total_counts  log1p_total_counts  \\\n",
       "0                       23            23                  23   \n",
       "1                        0             0                   0   \n",
       "2                       89            89                  89   \n",
       "3                        0             0                   0   \n",
       "4                        0             0                   0   \n",
       "5                      344           344                 344   \n",
       "6                        0             0                   0   \n",
       "7                      341           341                 341   \n",
       "8                        0             0                   0   \n",
       "9                      181           181                 181   \n",
       "\n",
       "   pct_counts_in_top_20_genes  ...  total_counts_hb  log1p_total_counts_hb  \\\n",
       "0                          23  ...               23                     23   \n",
       "1                           0  ...                0                      0   \n",
       "2                          89  ...               89                     89   \n",
       "3                           0  ...                0                      0   \n",
       "4                           0  ...                0                      0   \n",
       "5                         344  ...              344                    344   \n",
       "6                           0  ...                0                      0   \n",
       "7                         341  ...              341                    341   \n",
       "8                           0  ...                0                      0   \n",
       "9                         181  ...              181                    181   \n",
       "\n",
       "   pct_counts_hb  scDblFinder_score  scDblFinder_class  size_factors  \\\n",
       "0             23                 23                 23            23   \n",
       "1              0                  0                  0             0   \n",
       "2             89                 89                 89            89   \n",
       "3              0                  0                  0             0   \n",
       "4              0                  0                  0             0   \n",
       "5            344                344                344           344   \n",
       "6              0                  0                  0             0   \n",
       "7            341                341                341           341   \n",
       "8              0                  0                  0             0   \n",
       "9            181                181                181           181   \n",
       "\n",
       "   mag_nonmag  batch  TumorID  orin_index  \n",
       "0          23     23       23          23  \n",
       "1           0      0        0           0  \n",
       "2          89     89       89          89  \n",
       "3           0      0        0           0  \n",
       "4           0      0        0           0  \n",
       "5         344    344      344         344  \n",
       "6           0      0        0           0  \n",
       "7         341    341      341         341  \n",
       "8           0      0        0           0  \n",
       "9         181    181      181         181  \n",
       "\n",
       "[10 rows x 26 columns]"
      ]
     },
     "execution_count": 4,
     "metadata": {},
     "output_type": "execute_result"
    }
   ],
   "source": [
    "YU_adata[YU_adata.obs[\"TumorID\"]==\"YUS13\"].obs.groupby([\"Samples\",\"Types\"],as_index=False).count()"
   ]
  },
  {
   "cell_type": "code",
   "execution_count": 5,
   "id": "872d5cf9-47e3-4521-a5e2-46b9469b5e14",
   "metadata": {},
   "outputs": [
    {
     "data": {
      "text/plain": [
       "YUS11    1010\n",
       "YUS13     978\n",
       "YUS12     633\n",
       "YUS1      377\n",
       "YUS6      355\n",
       "YUS5      326\n",
       "YUS2      258\n",
       "YUS3      256\n",
       "Name: TumorID, dtype: int64"
      ]
     },
     "execution_count": 5,
     "metadata": {},
     "output_type": "execute_result"
    }
   ],
   "source": [
    "YU_adata.obs[\"TumorID\"].value_counts()"
   ]
  },
  {
   "cell_type": "markdown",
   "id": "5db39ddb-d04a-4bc8-96b3-dd20d5eac3f5",
   "metadata": {},
   "source": [
    "## quality control"
   ]
  },
  {
   "cell_type": "code",
   "execution_count": 39,
   "id": "6aa0a4bf-d961-482c-8a9f-d2d214ec6dea",
   "metadata": {},
   "outputs": [
    {
     "data": {
      "text/plain": [
       "AnnData object with n_obs × n_vars = 4193 × 22947\n",
       "    obs: 'Points', 'Types', 'Patients', 'Samples', 'n_genes', 'n_genes_by_counts', 'log1p_n_genes_by_counts', 'total_counts', 'log1p_total_counts', 'pct_counts_in_top_20_genes', 'total_counts_mt', 'log1p_total_counts_mt', 'pct_counts_mt', 'total_counts_ribo', 'log1p_total_counts_ribo', 'pct_counts_ribo', 'total_counts_hb', 'log1p_total_counts_hb', 'pct_counts_hb', 'scDblFinder_score', 'scDblFinder_class', 'size_factors', 'mag_nonmag', 'batch', 'TumorID', 'orin_index'\n",
       "    var: 'n_cells', 'mt', 'ribo', 'hb', 'n_cells_by_counts', 'mean_counts', 'log1p_mean_counts', 'pct_dropout_by_counts', 'total_counts', 'log1p_total_counts', 'highly_deviant', 'binomial_deviance'\n",
       "    uns: 'Patients_colors', 'Types_colors', 'neighbors', 'pca', 'scDblFinder_class_colors', 'umap'\n",
       "    obsm: 'X_pca', 'X_umap', 'analytic_pearson_residuals_pca', 'log1p_norm_pca', 'scran_normalization_pca'\n",
       "    varm: 'PCs'\n",
       "    layers: 'analytic_pearson_residuals', 'log1p_norm', 'scran_normalization'\n",
       "    obsp: 'connectivities', 'distances'"
      ]
     },
     "execution_count": 39,
     "metadata": {},
     "output_type": "execute_result"
    }
   ],
   "source": [
    "# mitochondrial genes\n",
    "YU_adata.var[\"mt\"] = YU_adata.var_names.str.startswith(\"MT-\")\n",
    "# ribosomal genes\n",
    "YU_adata.var[\"ribo\"] = YU_adata.var_names.str.startswith((\"RPS\", \"RPL\"))\n",
    "# hemoglobin genes.\n",
    "YU_adata.var[\"hb\"] = YU_adata.var_names.str.contains((\"^HB[^(P)]\"))\n",
    "sc.pp.calculate_qc_metrics(\n",
    "    YU_adata, qc_vars=[\"mt\", \"ribo\", \"hb\"], inplace=True, percent_top=[20], log1p=True\n",
    ")\n",
    "YU_adata"
   ]
  },
  {
   "cell_type": "code",
   "execution_count": 67,
   "id": "58857c3a-d962-48fe-bff2-1e4270c4f64f",
   "metadata": {},
   "outputs": [
    {
     "data": {
      "image/png": "[encoded data removed]",
      "text/plain": [
       "<Figure size 400x400 with 1 Axes>"
      ]
     },
     "metadata": {
      "image/png": {
       "height": 380,
       "width": 382
      }
     },
     "output_type": "display_data"
    },
    {
     "data": {
      "image/png": "[encoded data removed]",
      "text/plain": [
       "<Figure size 372.24x320 with 1 Axes>"
      ]
     },
     "metadata": {
      "image/png": {
       "height": 287,
       "width": 321
      }
     },
     "output_type": "display_data"
    }
   ],
   "source": [
    "from matplotlib.backends.backend_pdf import PdfPages\n",
    "with PdfPages('QC_plots.pdf') as pdf:\n",
    "    p1 = sns.displot(YU_adata.obs[\"total_counts\"], bins=100, kde=False)\n",
    "    pdf.savefig()\n",
    "    # sc.pl.violin(adata, 'total_counts')\n",
    "    p2 = sc.pl.violin(YU_adata, \"pct_counts_mt\",show=False)\n",
    "    pdf.savefig()\n",
    "    p3 = sc.pl.scatter(YU_adata, \"total_counts\", \"n_genes_by_counts\", color=\"pct_counts_mt\",show=False)\n",
    "    pdf.savefig()\n",
    "    plt.close()"
   ]
  },
  {
   "cell_type": "code",
   "execution_count": 42,
   "id": "b5d92d40-7bdb-4350-aadf-05e732e94c4a",
   "metadata": {},
   "outputs": [],
   "source": [
    "def is_outlier(adata, metric: str, nmads: int):\n",
    "    M = adata.obs[metric]\n",
    "    outlier = (M < np.median(M) - nmads * median_abs_deviation(M)) | (\n",
    "        np.median(M) + nmads * median_abs_deviation(M) < M\n",
    "    )\n",
    "    return outlier"
   ]
  },
  {
   "cell_type": "code",
   "execution_count": 46,
   "id": "2525c103-2f3b-4fd0-bd04-f888d280f11d",
   "metadata": {},
   "outputs": [
    {
     "data": {
      "text/plain": [
       "False    4150\n",
       "True       43\n",
       "Name: outlier, dtype: int64"
      ]
     },
     "execution_count": 46,
     "metadata": {},
     "output_type": "execute_result"
    }
   ],
   "source": [
    "YU_adata.obs[\"outlier\"] = (\n",
    "    is_outlier(YU_adata, \"log1p_total_counts\", 5)\n",
    "    | is_outlier(YU_adata, \"log1p_n_genes_by_counts\", 5)\n",
    "    | is_outlier(YU_adata, \"pct_counts_in_top_20_genes\", 5)\n",
    ")\n",
    "YU_adata.obs.outlier.value_counts()"
   ]
  },
  {
   "cell_type": "code",
   "execution_count": 47,
   "id": "ad2bec23-36c1-4795-86f2-5ce30020ec26",
   "metadata": {},
   "outputs": [
    {
     "data": {
      "text/plain": [
       "False    4193\n",
       "Name: mt_outlier, dtype: int64"
      ]
     },
     "execution_count": 47,
     "metadata": {},
     "output_type": "execute_result"
    }
   ],
   "source": [
    "YU_adata.obs[\"mt_outlier\"] = is_outlier(YU_adata, \"pct_counts_mt\", 3) | (\n",
    "    YU_adata.obs[\"pct_counts_mt\"] > 8\n",
    ")\n",
    "YU_adata.obs.mt_outlier.value_counts()"
   ]
  },
  {
   "cell_type": "code",
   "execution_count": 63,
   "id": "fa5d0775-81c0-422a-b849-b5f7c85c9843",
   "metadata": {},
   "outputs": [
    {
     "name": "stdout",
     "output_type": "stream",
     "text": [
      "Total number of cells: 4193\n",
      "Number of cells after filtering of low quality cells: 4150\n"
     ]
    }
   ],
   "source": [
    "print(f\"Total number of cells: {YU_adata.n_obs}\")\n",
    "YU_adata = YU_adata[(~YU_adata.obs.outlier) & (~YU_adata.obs.mt_outlier)].copy()\n",
    "\n",
    "print(f\"Number of cells after filtering of low quality cells: {YU_adata.n_obs}\")"
   ]
  },
  {
   "cell_type": "code",
   "execution_count": 77,
   "id": "54264c7c-92af-4fbb-a527-f63759f60cef",
   "metadata": {},
   "outputs": [],
   "source": [
    "YU_adata.write(\"GSE117891_4150_quality_control.h5ad\")"
   ]
  },
  {
   "cell_type": "markdown",
   "id": "934351ec-5d9f-4367-98d6-72d1b560324d",
   "metadata": {},
   "source": [
    "## Doublet Detection"
   ]
  },
  {
   "cell_type": "code",
   "execution_count": 1,
   "id": "41c29521-6a41-4109-8e72-364ddb4a6efe",
   "metadata": {},
   "outputs": [
    {
     "name": "stderr",
     "output_type": "stream",
     "text": [
      "/home/zhouying/miniconda3/envs/scRNAseq/lib/python3.11/site-packages/scvi/_settings.py:63: UserWarning: Since v1.0.0, scvi-tools no longer uses a random seed by default. Run `scvi.settings.seed = 0` to reproduce results from previous versions.\n",
      "  self.seed = seed\n",
      "/home/zhouying/miniconda3/envs/scRNAseq/lib/python3.11/site-packages/scvi/_settings.py:70: UserWarning: Setting `dl_pin_memory_gpu_training` is deprecated in v1.0 and will be removed in v1.1. Please pass in `pin_memory` to the data loaders instead.\n",
      "  self.dl_pin_memory_gpu_training = (\n",
      "/home/zhouying/miniconda3/envs/scRNAseq/lib/python3.11/site-packages/tqdm/auto.py:21: TqdmWarning: IProgress not found. Please update jupyter and ipywidgets. See https://ipywidgets.readthedocs.io/en/stable/user_install.html\n",
      "  from .autonotebook import tqdm as notebook_tqdm\n",
      "/home/zhouying/miniconda3/envs/scRNAseq/lib/python3.11/site-packages/rpy2/robjects/pandas2ri.py:368: DeprecationWarning: The global conversion available with activate() is deprecated and will be removed in the next major release. Use a local converter.\n",
      "  warnings.warn('The global conversion available with activate() '\n",
      "/home/zhouying/miniconda3/envs/scRNAseq/lib/python3.11/site-packages/rpy2/robjects/numpy2ri.py:252: DeprecationWarning: The global conversion available with activate() is deprecated and will be removed in the next major release. Use a local converter.\n",
      "  warnings.warn('The global conversion available with activate() '\n",
      "/tmp/ipykernel_1356854/946844322.py:20: DeprecationWarning: The global conversion available with activate() is deprecated and will be removed in the next major release. Use a local converter.\n",
      "  anndata2ri.activate()\n"
     ]
    }
   ],
   "source": [
    "# Python packages\n",
    "import scanpy as sc\n",
    "import scvi\n",
    "import bbknn\n",
    "import scib\n",
    "import numpy as np\n",
    "import pandas as pd\n",
    "import matplotlib.pyplot as plt\n",
    "import matplotlib\n",
    "\n",
    "# R interface\n",
    "import anndata2ri\n",
    "import logging\n",
    "\n",
    "import rpy2.rinterface_lib.callbacks as rcb\n",
    "import rpy2.robjects as ro\n",
    "\n",
    "rcb.logger.setLevel(logging.ERROR)\n",
    "ro.pandas2ri.activate()\n",
    "anndata2ri.activate()\n",
    "\n",
    "%load_ext rpy2.ipython"
   ]
  },
  {
   "cell_type": "code",
   "execution_count": 7,
   "id": "790f2883-526e-4ebc-ad1f-f3f74eb36b1f",
   "metadata": {},
   "outputs": [],
   "source": [
    "%%R\n",
    "library(SoupX)"
   ]
  },
  {
   "cell_type": "code",
   "execution_count": 2,
   "id": "35b26aed-a0ee-42c1-ada0-200ef9d34725",
   "metadata": {
    "collapsed": true,
    "jupyter": {
     "outputs_hidden": true
    }
   },
   "outputs": [
    {
     "name": "stdout",
     "output_type": "stream",
     "text": [
      "\n",
      "    WARNING: The R package \"reticulate\" only fixed recently\n",
      "    an issue that caused a segfault when used with rpy2:\n",
      "    https://github.com/rstudio/reticulate/pull/1188\n",
      "    Make sure that you use a version of that package that includes\n",
      "    the fix.\n",
      "    "
     ]
    },
    {
     "name": "stderr",
     "output_type": "stream",
     "text": [
      "/home/zhouying/miniconda3/envs/scRNAseq/lib/python3.11/site-packages/rpy2/ipython/rmagic.py:984: DeprecationWarning: The `source` parameter emit a  deprecation warning since IPython 8.0, it had no effects for a long time and will  be removed in future versions.\n",
      "  displaypub.publish_display_data(\n"
     ]
    },
    {
     "data": {
      "text/plain": [
       "The legacy packages maptools, rgdal, and rgeos, underpinning the sp package,\n",
       "which was just loaded, will retire in October 2023.\n",
       "Please refer to R-spatial evolution reports for details, especially\n",
       "https://r-spatial.org/r/2023/05/15/evolution4.html.\n",
       "It may be desirable to make the sf package available;\n",
       "package maintainers should consider adding sf to Suggests:.\n",
       "The sp package is now running under evolution status 2\n",
       "     (status 2 uses the sf package in place of rgdal)\n",
       "Attaching SeuratObject\n",
       "Loading required package: SingleCellExperiment\n",
       "Loading required package: SummarizedExperiment\n",
       "Loading required package: MatrixGenerics\n",
       "Loading required package: matrixStats\n",
       "\n",
       "Attaching package: ‘MatrixGenerics’\n",
       "\n",
       "The following objects are masked from ‘package:matrixStats’:\n",
       "\n",
       "    colAlls, colAnyNAs, colAnys, colAvgsPerRowSet, colCollapse,\n",
       "    colCounts, colCummaxs, colCummins, colCumprods, colCumsums,\n",
       "    colDiffs, colIQRDiffs, colIQRs, colLogSumExps, colMadDiffs,\n",
       "    colMads, colMaxs, colMeans2, colMedians, colMins, colOrderStats,\n",
       "    colProds, colQuantiles, colRanges, colRanks, colSdDiffs, colSds,\n",
       "    colSums2, colTabulates, colVarDiffs, colVars, colWeightedMads,\n",
       "    colWeightedMeans, colWeightedMedians, colWeightedSds,\n",
       "    colWeightedVars, rowAlls, rowAnyNAs, rowAnys, rowAvgsPerColSet,\n",
       "    rowCollapse, rowCounts, rowCummaxs, rowCummins, rowCumprods,\n",
       "    rowCumsums, rowDiffs, rowIQRDiffs, rowIQRs, rowLogSumExps,\n",
       "    rowMadDiffs, rowMads, rowMaxs, rowMeans2, rowMedians, rowMins,\n",
       "    rowOrderStats, rowProds, rowQuantiles, rowRanges, rowRanks,\n",
       "    rowSdDiffs, rowSds, rowSums2, rowTabulates, rowVarDiffs, rowVars,\n",
       "    rowWeightedMads, rowWeightedMeans, rowWeightedMedians,\n",
       "    rowWeightedSds, rowWeightedVars\n",
       "\n",
       "Loading required package: GenomicRanges\n",
       "Loading required package: stats4\n",
       "Loading required package: BiocGenerics\n",
       "\n",
       "Attaching package: ‘BiocGenerics’\n",
       "\n",
       "The following object is masked from ‘package:SeuratObject’:\n",
       "\n",
       "    intersect\n",
       "\n",
       "The following objects are masked from ‘package:stats’:\n",
       "\n",
       "    IQR, mad, sd, var, xtabs\n",
       "\n",
       "The following objects are masked from ‘package:base’:\n",
       "\n",
       "    anyDuplicated, aperm, append, as.data.frame, basename, cbind,\n",
       "    colnames, dirname, do.call, duplicated, eval, evalq, Filter, Find,\n",
       "    get, grep, grepl, intersect, is.unsorted, lapply, Map, mapply,\n",
       "    match, mget, order, paste, pmax, pmax.int, pmin, pmin.int,\n",
       "    Position, rank, rbind, Reduce, rownames, sapply, setdiff, sort,\n",
       "    table, tapply, union, unique, unsplit, which.max, which.min\n",
       "\n",
       "Loading required package: S4Vectors\n",
       "\n",
       "Attaching package: ‘S4Vectors’\n",
       "\n",
       "The following object is masked from ‘package:utils’:\n",
       "\n",
       "    findMatches\n",
       "\n",
       "The following objects are masked from ‘package:base’:\n",
       "\n",
       "    expand.grid, I, unname\n",
       "\n",
       "Loading required package: IRanges\n",
       "Loading required package: GenomeInfoDb\n",
       "Loading required package: Biobase\n",
       "Welcome to Bioconductor\n",
       "\n",
       "    Vignettes contain introductory material; view with\n",
       "    'browseVignettes()'. To cite Bioconductor, see\n",
       "    'citation(\"Biobase\")', and for packages 'citation(\"pkgname\")'.\n",
       "\n",
       "\n",
       "Attaching package: ‘Biobase’\n",
       "\n",
       "The following object is masked from ‘package:MatrixGenerics’:\n",
       "\n",
       "    rowMedians\n",
       "\n",
       "The following objects are masked from ‘package:matrixStats’:\n",
       "\n",
       "    anyMissing, rowMedians\n",
       "\n",
       "\n",
       "Attaching package: ‘SummarizedExperiment’\n",
       "\n",
       "The following object is masked from ‘package:SeuratObject’:\n",
       "\n",
       "    Assays\n",
       "\n",
       "The following object is masked from ‘package:Seurat’:\n",
       "\n",
       "    Assays\n",
       "\n",
       "Loading required package: scuttle\n",
       "Loading required package: ggplot2\n",
       "Use suppressPackageStartupMessages() to eliminate package startup\n",
       "messages\n",
       "In addition: Warning message:\n",
       "In (function (package, help, pos = 2, lib.loc = NULL, character.only = FALSE,  :\n",
       "  library ‘/usr/local/lib/R/site-library’ contains no packages\n"
      ]
     },
     "metadata": {},
     "output_type": "display_data"
    }
   ],
   "source": [
    "%%R\n",
    "library(Seurat)\n",
    "library(scater)\n",
    "library(scDblFinder)\n",
    "library(BiocParallel)"
   ]
  },
  {
   "cell_type": "code",
   "execution_count": 5,
   "id": "a03be5c9-c2bf-49c0-bf3e-9d209990cb7c",
   "metadata": {},
   "outputs": [],
   "source": [
    "YU_adata=ad.read(\"GSE117891_4150_quality_control.h5ad\")"
   ]
  },
  {
   "cell_type": "code",
   "execution_count": 6,
   "id": "316efcd2-65aa-4ae6-9410-5fe4ce131e7b",
   "metadata": {},
   "outputs": [],
   "source": [
    "data_mat = YU_adata.X.T"
   ]
  },
  {
   "cell_type": "code",
   "execution_count": 7,
   "id": "939e059c-97b9-4b3e-b6be-11c5524f217b",
   "metadata": {},
   "outputs": [
    {
     "name": "stderr",
     "output_type": "stream",
     "text": [
      "/home/zhouying/miniconda3/envs/scRNAseq/lib/python3.11/site-packages/rpy2/ipython/rmagic.py:984: DeprecationWarning: The `source` parameter emit a  deprecation warning since IPython 8.0, it had no effects for a long time and will  be removed in future versions.\n",
      "  displaypub.publish_display_data(\n"
     ]
    },
    {
     "data": {
      "text/plain": [
       "Creating ~5000 artificial doublets...\n",
       "Dimensional reduction\n",
       "Evaluating kNN...\n",
       "Training model...\n",
       "iter=0, 453 cells excluded from training.\n",
       "iter=1, 513 cells excluded from training.\n",
       "iter=2, 535 cells excluded from training.\n",
       "Threshold found:0.7\n",
       "327 (7.9%) doublets called\n"
      ]
     },
     "metadata": {},
     "output_type": "display_data"
    }
   ],
   "source": [
    "%%R -i data_mat -o doublet_score -o doublet_class\n",
    "\n",
    "set.seed(123)\n",
    "sce = scDblFinder(\n",
    "    SingleCellExperiment(\n",
    "        list(counts=data_mat),\n",
    "    ) \n",
    ")\n",
    "doublet_score = sce$scDblFinder.score\n",
    "doublet_class = sce$scDblFinder.class"
   ]
  },
  {
   "cell_type": "code",
   "execution_count": 9,
   "id": "f7106e9c-0218-44da-9a68-96fb61761562",
   "metadata": {},
   "outputs": [
    {
     "data": {
      "text/plain": [
       "singlet    3823\n",
       "doublet     327\n",
       "Name: scDblFinder_class, dtype: int64"
      ]
     },
     "execution_count": 9,
     "metadata": {},
     "output_type": "execute_result"
    }
   ],
   "source": [
    "YU_adata.obs[\"scDblFinder_score\"] = doublet_score\n",
    "YU_adata.obs[\"scDblFinder_class\"] = doublet_class\n",
    "YU_adata.obs.scDblFinder_class.value_counts()"
   ]
  },
  {
   "cell_type": "code",
   "execution_count": 50,
   "id": "8ba07bbe-f040-4a42-8be1-f4eb98e49c4c",
   "metadata": {},
   "outputs": [],
   "source": [
    "YU_adata.write(\"GSE117891_4150_mark_singlet.h5ad\")\n",
    "YU_del_doublet.write(\"GSE117891_3823_singlet_final.h5ad\")"
   ]
  },
  {
   "cell_type": "code",
   "execution_count": 71,
   "id": "65277517-20d6-42da-8f33-81d60686c18c",
   "metadata": {},
   "outputs": [
    {
     "data": {
      "text/plain": [
       "<seaborn.axisgrid.FacetGrid at 0x7f05212c7c50>"
      ]
     },
     "execution_count": 71,
     "metadata": {},
     "output_type": "execute_result"
    },
    {
     "data": {
      "image/png": "[encoded data removed]",
      "text/plain": [
       "<Figure size 400x400 with 1 Axes>"
      ]
     },
     "metadata": {
      "image/png": {
       "height": 380,
       "width": 382
      }
     },
     "output_type": "display_data"
    },
    {
     "data": {
      "image/png": "[encoded data removed]",
      "text/plain": [
       "<Figure size 400x400 with 1 Axes>"
      ]
     },
     "metadata": {
      "image/png": {
       "height": 380,
       "width": 382
      }
     },
     "output_type": "display_data"
    }
   ],
   "source": [
    "sns.displot(YU_adata.obs[\"pct_counts_in_top_20_genes\"], bins=100, kde=False)\n",
    "sns.displot(YU_adata[YU_adata.obs.outlier!=\"Ture\"].obs[\"log1p_n_genes_by_counts\"], bins=100, kde=False)"
   ]
  },
  {
   "cell_type": "markdown",
   "id": "7e0f3d4e-ff9a-4527-a8ba-bd8a6de775e5",
   "metadata": {},
   "source": [
    "## scRNA-seq preprocessing function"
   ]
  },
  {
   "cell_type": "code",
   "execution_count": 61,
   "id": "6321cc1d-724b-4eec-81de-d63768e35973",
   "metadata": {},
   "outputs": [],
   "source": [
    "def preprocessing(adata,Sample_key,save_path,batch_key=None,batch_name=None):\n",
    "    '''running all datasets by this process to filter low-quality cells and doublets\n",
    "    refer to https://www.sc-best-practices.org/preprocessing_visualiza\n",
    "    quality control performed on following three covariates:\n",
    "    1. The number of counts per barcode (count depth)\n",
    "    2. The number of genes per barconde\n",
    "    3. The franction of counts from mitochondrial genes per barcode\n",
    "    Using MAD (median absolute deviations) as threshold to filter all metrics\n",
    "    MAD=median(|Xi-median(X)|), Xi is the respective QC metric of an observation\n",
    "    cells are maked as outliers out of 5 MADs [Germain et al., 2020](https://www.sc-best-practices.org/preprocessing_visualization/quality_control.html)'''\n",
    "    import numpy as np\n",
    "    import scanpy as sc\n",
    "    import seaborn as sns\n",
    "    from scipy.stats import median_abs_deviation\n",
    "    import anndata as ad\n",
    "    import pandas as pd\n",
    "    import os\n",
    "    from scipy.sparse import csr_matrix\n",
    "    import matplotlib.pyplot as plt\n",
    "    from matplotlib.backends.backend_pdf import PdfPages\n",
    "    \n",
    "    sc.settings.verbosity = 0\n",
    "    sc.settings.set_figure_params(\n",
    "        dpi=80,\n",
    "        facecolor=\"white\",\n",
    "        frameon=False,\n",
    "    )\n",
    "    \n",
    "    stats=pd.DataFrame(data=list(adata.obs[Sample_key].value_counts()),\n",
    "             columns=[\"N.cells in RawData\"],\n",
    "             index=list(adata.obs[Sample_key].value_counts().index))\n",
    "    # mitochondrial genes\n",
    "    adata.var[\"mt\"] = adata.var_names.str.startswith(\"MT-\")\n",
    "    # ribosomal genes\n",
    "    adata.var[\"ribo\"] = adata.var_names.str.startswith((\"RPS\", \"RPL\"))\n",
    "    # hemoglobin genes.\n",
    "    adata.var[\"hb\"] = adata.var_names.str.contains((\"^HB[^(P)]\"))\n",
    "    sc.pp.calculate_qc_metrics(\n",
    "    adata, qc_vars=[\"mt\", \"ribo\", \"hb\"], inplace=True, percent_top=[20], log1p=True)\n",
    "\n",
    "    if batch_name is not None:\n",
    "        QC_plot_savepath=save_path+batch_name+\"_qc_plot.pdf\"\n",
    "    elif batch_key is not None:\n",
    "        QC_plot_savepath=save_path+adata.obs[batch_key].unique()[0]+\"_qc_plot.pdf\"\n",
    "    else:\n",
    "        print(\"Please give \\\"batch_name\\\" or \\\"batch_key\\\" \")\n",
    "        \n",
    "    with PdfPages(QC_plot_savepath) as pdf:\n",
    "        p1 = sns.displot(adata.obs[\"total_counts\"], bins=100, kde=False)\n",
    "        pdf.savefig()\n",
    "        # sc.pl.violin(adata, 'total_counts')\n",
    "        p2 = sc.pl.violin(adata, \"pct_counts_mt\",show=False)\n",
    "        pdf.savefig()\n",
    "        p3 = sc.pl.scatter(adata, \"total_counts\", \"n_genes_by_counts\", color=\"pct_counts_mt\",show=False)\n",
    "        pdf.savefig()\n",
    "        plt.close()\n",
    "    \n",
    "    def is_outlier(adata, metric: str, nmads: int):\n",
    "        M = adata.obs[metric]\n",
    "        outlier = (M < np.median(M) - nmads * median_abs_deviation(M)) | (\n",
    "            np.median(M) + nmads * median_abs_deviation(M) < M\n",
    "        )\n",
    "        return outlier\n",
    "\n",
    "    # log1p_total_counts, log1p_n_genes_by_counts and pct_counts_in_top_20_genes QC covariates each with a threshold of 5 MADs\n",
    "    adata.obs[\"outlier\"] = (\n",
    "        is_outlier(adata, \"log1p_total_counts\", 5)\n",
    "        | is_outlier(adata, \"log1p_n_genes_by_counts\", 5)\n",
    "        | is_outlier(adata, \"pct_counts_in_top_20_genes\", 5)\n",
    "    )\n",
    "\n",
    "    # pct_counts_Mt is filtered with 3 MADs. Additionally, cells with a percentage of mitochondrial counts exceeding 8 % are filtered out.\n",
    "    adata.obs[\"mt_outlier\"] = is_outlier(adata, \"pct_counts_mt\", 3) | (\n",
    "        adata.obs[\"pct_counts_mt\"] > 8\n",
    "    )\n",
    "    \n",
    "    print(f\"Total number of cells: {adata.n_obs}\")\n",
    "    adata = adata[(~adata.obs.outlier) & (~adata.obs.mt_outlier)].copy()\n",
    "    print(f\"Number of cells after filtering of low quality cells: {adata.n_obs}\")\n",
    "    stats[\"N.cells passing QC\"]=adata.obs[Sample_key].value_counts()\n",
    "    \n",
    "    # Doublet Detection using scDblFinder R package\n",
    "    import anndata2ri\n",
    "    import logging\n",
    "    \n",
    "    import rpy2.rinterface_lib.callbacks as rcb\n",
    "    import rpy2.robjects as ro\n",
    "    \n",
    "    rcb.logger.setLevel(logging.ERROR)\n",
    "    ro.pandas2ri.activate()\n",
    "    anndata2ri.activate()\n",
    "    \n",
    "    Rcode=\"\"\"\n",
    "    doublet <- function(mat){\n",
    "    library(Seurat)\n",
    "    library(scater)\n",
    "    library(scDblFinder)\n",
    "    library(BiocParallel)\n",
    "    set.seed(123)\n",
    "    sce = scDblFinder(\n",
    "    SingleCellExperiment(\n",
    "        list(counts=mat),\n",
    "        ) \n",
    "    )\n",
    "    doublet_score = sce$scDblFinder.score\n",
    "    doublet_class = sce$scDblFinder.class\n",
    "    ans=list(\"score\"=doublet_score,\"class\"=doublet_class)\n",
    "    return(ans)\n",
    "    }\n",
    "    \"\"\"\n",
    "    ro.r(Rcode)\n",
    "\n",
    "    data_mat = adata.X.T\n",
    "    ans=ro.r['doublet'](data_mat)\n",
    "    \n",
    "    adata.obs[\"scDblFinder_score\"] = ans['score']\n",
    "    adata.obs[\"scDblFinder_class\"] = ans['class']\n",
    "    adata.obs.scDblFinder_class.value_counts()\n",
    "\n",
    "    adata=adata[adata.obs.scDblFinder_class==\"singlet\"]\n",
    "    stats[\"N.singlet cells\"]=adata.obs[Sample_key].value_counts()\n",
    "\n",
    "    if batch_name is not None:\n",
    "        adata.write(save_path+batch_name+\"_qc.h5ad\")\n",
    "        stats.to_csv(save_path+batch_name+\"_stats.csv\")\n",
    "    elif batch_key is not None:\n",
    "        adata.write(save_path+adata.obs[batch_key].unique()[0]+\"_qc.h5ad\")\n",
    "        stats.to_csv(save_path+adata.obs[batch_key].unique()[0]+\"_stats.csv\")\n",
    "    else:\n",
    "        print(\"Please give \\\"batch_name\\\" or \\\"batch_key\\\" \")"
   ]
  },
  {
   "cell_type": "code",
   "execution_count": 6,
   "id": "af0be202-5ddd-4f63-a007-c3496895225d",
   "metadata": {},
   "outputs": [
    {
     "name": "stdout",
     "output_type": "stream",
     "text": [
      "Total number of cells: 4193\n",
      "Number of cells after filtering of low quality cells: 4150\n",
      "\n",
      "    WARNING: The R package \"reticulate\" only fixed recently\n",
      "    an issue that caused a segfault when used with rpy2:\n",
      "    https://github.com/rstudio/reticulate/pull/1188\n",
      "    Make sure that you use a version of that package that includes\n",
      "    the fix.\n",
      "    "
     ]
    },
    {
     "data": {
      "image/png": "[encoded data removed]",
      "text/plain": [
       "<Figure size 400x400 with 1 Axes>"
      ]
     },
     "metadata": {
      "image/png": {
       "height": 380,
       "width": 382
      }
     },
     "output_type": "display_data"
    },
    {
     "data": {
      "image/png": "[encoded data removed]",
      "text/plain": [
       "<Figure size 372.24x320 with 1 Axes>"
      ]
     },
     "metadata": {
      "image/png": {
       "height": 281,
       "width": 315
      }
     },
     "output_type": "display_data"
    }
   ],
   "source": [
    "from utils import preprocessing\n",
    "preprocessing(YU_adata,\"TumorID\",\"/data/newdata/deconv/Deconv_in_GBM/\",batch_key=\"batch\")"
   ]
  },
  {
   "cell_type": "code",
   "execution_count": 57,
   "id": "444b566d-4fd1-46e4-8d08-3696a402a2f8",
   "metadata": {},
   "outputs": [],
   "source": [
    "batch_key=\"5\""
   ]
  },
  {
   "cell_type": "code",
   "execution_count": 58,
   "id": "08446bdd-7bb9-4426-8f5c-b5a1da709cd0",
   "metadata": {},
   "outputs": [
    {
     "name": "stdout",
     "output_type": "stream",
     "text": [
      "ture\n"
     ]
    }
   ],
   "source": [
    "if batch_key is not None:\n",
    "    print(\"ture\")"
   ]
  },
  {
   "cell_type": "code",
   "execution_count": 33,
   "id": "3a801f6f-132e-462b-932a-b007d19cbae1",
   "metadata": {},
   "outputs": [],
   "source": [
    "stats=pd.DataFrame(data=list(new_adata.obs['TumorID'].value_counts()),\n",
    "             columns=[\"Raw\"],\n",
    "             index=list(new_adata.obs['TumorID'].value_counts().index))\n",
    "stats[\"N.cells passing QC\"]=new_adata.obs['TumorID'].value_counts()"
   ]
  },
  {
   "cell_type": "code",
   "execution_count": 39,
   "id": "5b029c97-05ef-4241-88ed-25dab1273b57",
   "metadata": {},
   "outputs": [
    {
     "data": {
      "text/html": [
       "<div>\n",
       "<style scoped>\n",
       "    .dataframe tbody tr th:only-of-type {\n",
       "        vertical-align: middle;\n",
       "    }\n",
       "\n",
       "    .dataframe tbody tr th {\n",
       "        vertical-align: top;\n",
       "    }\n",
       "\n",
       "    .dataframe thead th {\n",
       "        text-align: right;\n",
       "    }\n",
       "</style>\n",
       "<table border=\"1\" class=\"dataframe\">\n",
       "  <thead>\n",
       "    <tr style=\"text-align: right;\">\n",
       "      <th></th>\n",
       "      <th>N.cells in RawData</th>\n",
       "      <th>N.cells passing QC</th>\n",
       "      <th>N.singlet cells</th>\n",
       "    </tr>\n",
       "  </thead>\n",
       "  <tbody>\n",
       "    <tr>\n",
       "      <th>YUS11</th>\n",
       "      <td>1010</td>\n",
       "      <td>1002</td>\n",
       "      <td>919</td>\n",
       "    </tr>\n",
       "    <tr>\n",
       "      <th>YUS13</th>\n",
       "      <td>978</td>\n",
       "      <td>971</td>\n",
       "      <td>893</td>\n",
       "    </tr>\n",
       "    <tr>\n",
       "      <th>YUS12</th>\n",
       "      <td>633</td>\n",
       "      <td>611</td>\n",
       "      <td>524</td>\n",
       "    </tr>\n",
       "    <tr>\n",
       "      <th>YUS1</th>\n",
       "      <td>377</td>\n",
       "      <td>376</td>\n",
       "      <td>360</td>\n",
       "    </tr>\n",
       "    <tr>\n",
       "      <th>YUS6</th>\n",
       "      <td>355</td>\n",
       "      <td>352</td>\n",
       "      <td>336</td>\n",
       "    </tr>\n",
       "    <tr>\n",
       "      <th>YUS5</th>\n",
       "      <td>326</td>\n",
       "      <td>325</td>\n",
       "      <td>303</td>\n",
       "    </tr>\n",
       "    <tr>\n",
       "      <th>YUS2</th>\n",
       "      <td>258</td>\n",
       "      <td>258</td>\n",
       "      <td>247</td>\n",
       "    </tr>\n",
       "    <tr>\n",
       "      <th>YUS3</th>\n",
       "      <td>256</td>\n",
       "      <td>255</td>\n",
       "      <td>241</td>\n",
       "    </tr>\n",
       "  </tbody>\n",
       "</table>\n",
       "</div>"
      ],
      "text/plain": [
       "       N.cells in RawData  N.cells passing QC  N.singlet cells\n",
       "YUS11                1010                1002              919\n",
       "YUS13                 978                 971              893\n",
       "YUS12                 633                 611              524\n",
       "YUS1                  377                 376              360\n",
       "YUS6                  355                 352              336\n",
       "YUS5                  326                 325              303\n",
       "YUS2                  258                 258              247\n",
       "YUS3                  256                 255              241"
      ]
     },
     "execution_count": 39,
     "metadata": {},
     "output_type": "execute_result"
    }
   ],
   "source": [
    "stats"
   ]
  },
  {
   "cell_type": "code",
   "execution_count": 30,
   "id": "caef1355-0fe1-4165-b7e2-f307e755dbac",
   "metadata": {},
   "outputs": [
    {
     "data": {
      "text/plain": [
       "YUS11    1002\n",
       "YUS13     971\n",
       "YUS12     611\n",
       "YUS1      376\n",
       "YUS6      352\n",
       "YUS5      325\n",
       "YUS2      258\n",
       "YUS3      255\n",
       "Name: TumorID, dtype: int64"
      ]
     },
     "execution_count": 30,
     "metadata": {},
     "output_type": "execute_result"
    }
   ],
   "source": [
    "new_adata.obs['TumorID'].value_counts()"
   ]
  },
  {
   "cell_type": "code",
   "execution_count": 107,
   "id": "e6a7a19f-7dc6-4f0e-a72b-450b62aff76a",
   "metadata": {},
   "outputs": [
    {
     "data": {
      "text/plain": [
       "array([0.00147424, 0.00627609, 0.14888474, ..., 0.74016744, 0.00620837,\n",
       "       0.1510299 ])"
      ]
     },
     "execution_count": 107,
     "metadata": {},
     "output_type": "execute_result"
    }
   ],
   "source": []
  },
  {
   "cell_type": "code",
   "execution_count": 103,
   "id": "4e8467a3-0425-4e91-b436-43f62999a257",
   "metadata": {},
   "outputs": [
    {
     "data": {
      "text/plain": [
       "['singlet', 'singlet', 'singlet', 'singlet', 'singlet', ..., 'singlet', 'singlet', 'doublet', 'singlet', 'singlet']\n",
       "Length: 4150\n",
       "Categories (2, object): ['singlet', 'doublet']"
      ]
     },
     "execution_count": 103,
     "metadata": {},
     "output_type": "execute_result"
    }
   ],
   "source": []
  },
  {
   "cell_type": "code",
   "execution_count": null,
   "id": "d75b6e44-d7f8-4ab5-952a-f77ad5e75115",
   "metadata": {},
   "outputs": [],
   "source": []
  }
 ],
 "metadata": {
  "kernelspec": {
   "display_name": "Python 3 (ipykernel)",
   "language": "python",
   "name": "python3"
  },
  "language_info": {
   "codemirror_mode": {
    "name": "ipython",
    "version": 3
   },
   "file_extension": ".py",
   "mimetype": "text/x-python",
   "name": "python",
   "nbconvert_exporter": "python",
   "pygments_lexer": "ipython3",
   "version": "3.11.5"
  }
 },
 "nbformat": 4,
 "nbformat_minor": 5
}
